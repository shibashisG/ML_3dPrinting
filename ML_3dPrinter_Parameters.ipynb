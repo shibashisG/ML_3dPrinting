{
 "cells": [
  {
   "cell_type": "code",
   "execution_count": 1,
   "metadata": {},
   "outputs": [],
   "source": [
    "import numpy as np\n",
    "import pandas as pd\n",
    "import matplotlib.pyplot as plt # plotting"
   ]
  },
  {
   "cell_type": "code",
   "execution_count": 2,
   "metadata": {},
   "outputs": [],
   "source": [
    "df=pd.read_csv('data.csv')"
   ]
  },
  {
   "cell_type": "code",
   "execution_count": 3,
   "metadata": {
    "scrolled": true
   },
   "outputs": [
    {
     "data": {
      "text/html": [
       "<div>\n",
       "<style scoped>\n",
       "    .dataframe tbody tr th:only-of-type {\n",
       "        vertical-align: middle;\n",
       "    }\n",
       "\n",
       "    .dataframe tbody tr th {\n",
       "        vertical-align: top;\n",
       "    }\n",
       "\n",
       "    .dataframe thead th {\n",
       "        text-align: right;\n",
       "    }\n",
       "</style>\n",
       "<table border=\"1\" class=\"dataframe\">\n",
       "  <thead>\n",
       "    <tr style=\"text-align: right;\">\n",
       "      <th></th>\n",
       "      <th>layer_height</th>\n",
       "      <th>wall_thickness</th>\n",
       "      <th>infill_density</th>\n",
       "      <th>infill_pattern</th>\n",
       "      <th>nozzle_temperature</th>\n",
       "      <th>bed_temperature</th>\n",
       "      <th>print_speed</th>\n",
       "      <th>material</th>\n",
       "      <th>fan_speed</th>\n",
       "      <th>roughness</th>\n",
       "      <th>tension_strenght</th>\n",
       "      <th>elongation</th>\n",
       "    </tr>\n",
       "  </thead>\n",
       "  <tbody>\n",
       "    <tr>\n",
       "      <th>0</th>\n",
       "      <td>0.02</td>\n",
       "      <td>8</td>\n",
       "      <td>90</td>\n",
       "      <td>grid</td>\n",
       "      <td>220</td>\n",
       "      <td>60</td>\n",
       "      <td>40</td>\n",
       "      <td>abs</td>\n",
       "      <td>0</td>\n",
       "      <td>25</td>\n",
       "      <td>18</td>\n",
       "      <td>1.2</td>\n",
       "    </tr>\n",
       "    <tr>\n",
       "      <th>1</th>\n",
       "      <td>0.02</td>\n",
       "      <td>7</td>\n",
       "      <td>90</td>\n",
       "      <td>honeycomb</td>\n",
       "      <td>225</td>\n",
       "      <td>65</td>\n",
       "      <td>40</td>\n",
       "      <td>abs</td>\n",
       "      <td>25</td>\n",
       "      <td>32</td>\n",
       "      <td>16</td>\n",
       "      <td>1.4</td>\n",
       "    </tr>\n",
       "    <tr>\n",
       "      <th>2</th>\n",
       "      <td>0.02</td>\n",
       "      <td>1</td>\n",
       "      <td>80</td>\n",
       "      <td>grid</td>\n",
       "      <td>230</td>\n",
       "      <td>70</td>\n",
       "      <td>40</td>\n",
       "      <td>abs</td>\n",
       "      <td>50</td>\n",
       "      <td>40</td>\n",
       "      <td>8</td>\n",
       "      <td>0.8</td>\n",
       "    </tr>\n",
       "    <tr>\n",
       "      <th>3</th>\n",
       "      <td>0.02</td>\n",
       "      <td>4</td>\n",
       "      <td>70</td>\n",
       "      <td>honeycomb</td>\n",
       "      <td>240</td>\n",
       "      <td>75</td>\n",
       "      <td>40</td>\n",
       "      <td>abs</td>\n",
       "      <td>75</td>\n",
       "      <td>68</td>\n",
       "      <td>10</td>\n",
       "      <td>0.5</td>\n",
       "    </tr>\n",
       "    <tr>\n",
       "      <th>4</th>\n",
       "      <td>0.02</td>\n",
       "      <td>6</td>\n",
       "      <td>90</td>\n",
       "      <td>grid</td>\n",
       "      <td>250</td>\n",
       "      <td>80</td>\n",
       "      <td>40</td>\n",
       "      <td>abs</td>\n",
       "      <td>100</td>\n",
       "      <td>92</td>\n",
       "      <td>5</td>\n",
       "      <td>0.7</td>\n",
       "    </tr>\n",
       "  </tbody>\n",
       "</table>\n",
       "</div>"
      ],
      "text/plain": [
       "   layer_height  wall_thickness  infill_density infill_pattern  \\\n",
       "0          0.02               8              90           grid   \n",
       "1          0.02               7              90      honeycomb   \n",
       "2          0.02               1              80           grid   \n",
       "3          0.02               4              70      honeycomb   \n",
       "4          0.02               6              90           grid   \n",
       "\n",
       "   nozzle_temperature  bed_temperature  print_speed material  fan_speed  \\\n",
       "0                 220               60           40      abs          0   \n",
       "1                 225               65           40      abs         25   \n",
       "2                 230               70           40      abs         50   \n",
       "3                 240               75           40      abs         75   \n",
       "4                 250               80           40      abs        100   \n",
       "\n",
       "   roughness  tension_strenght  elongation  \n",
       "0         25                18         1.2  \n",
       "1         32                16         1.4  \n",
       "2         40                 8         0.8  \n",
       "3         68                10         0.5  \n",
       "4         92                 5         0.7  "
      ]
     },
     "execution_count": 3,
     "metadata": {},
     "output_type": "execute_result"
    }
   ],
   "source": [
    "df.head()"
   ]
  },
  {
   "cell_type": "code",
   "execution_count": 4,
   "metadata": {},
   "outputs": [
    {
     "data": {
      "text/plain": [
       "layer_height          0\n",
       "wall_thickness        0\n",
       "infill_density        0\n",
       "infill_pattern        0\n",
       "nozzle_temperature    0\n",
       "bed_temperature       0\n",
       "print_speed           0\n",
       "material              0\n",
       "fan_speed             0\n",
       "roughness             0\n",
       "tension_strenght      0\n",
       "elongation            0\n",
       "dtype: int64"
      ]
     },
     "execution_count": 4,
     "metadata": {},
     "output_type": "execute_result"
    }
   ],
   "source": [
    "df.isna().sum()"
   ]
  },
  {
   "cell_type": "code",
   "execution_count": 5,
   "metadata": {},
   "outputs": [],
   "source": [
    "ip_df=df.iloc[:,:-3]\n",
    "op_df=df.iloc[:,-3:]"
   ]
  },
  {
   "cell_type": "code",
   "execution_count": 6,
   "metadata": {
    "scrolled": true
   },
   "outputs": [
    {
     "data": {
      "text/html": [
       "<style  type=\"text/css\" >\n",
       "    #T_18ed5f6a_1f43_11ea_a6c3_adb8e046ec04row0_col0 {\n",
       "            background-color:  #b40426;\n",
       "            color:  #f1f1f1;\n",
       "        }    #T_18ed5f6a_1f43_11ea_a6c3_adb8e046ec04row0_col1 {\n",
       "            background-color:  #6c8ff1;\n",
       "            color:  #000000;\n",
       "        }    #T_18ed5f6a_1f43_11ea_a6c3_adb8e046ec04row0_col2 {\n",
       "            background-color:  #5572df;\n",
       "            color:  #000000;\n",
       "        }    #T_18ed5f6a_1f43_11ea_a6c3_adb8e046ec04row0_col3 {\n",
       "            background-color:  #aec9fc;\n",
       "            color:  #000000;\n",
       "        }    #T_18ed5f6a_1f43_11ea_a6c3_adb8e046ec04row0_col4 {\n",
       "            background-color:  #86a9fc;\n",
       "            color:  #000000;\n",
       "        }    #T_18ed5f6a_1f43_11ea_a6c3_adb8e046ec04row0_col5 {\n",
       "            background-color:  #8fb1fe;\n",
       "            color:  #000000;\n",
       "        }    #T_18ed5f6a_1f43_11ea_a6c3_adb8e046ec04row0_col6 {\n",
       "            background-color:  #86a9fc;\n",
       "            color:  #000000;\n",
       "        }    #T_18ed5f6a_1f43_11ea_a6c3_adb8e046ec04row0_col7 {\n",
       "            background-color:  #e67259;\n",
       "            color:  #000000;\n",
       "        }    #T_18ed5f6a_1f43_11ea_a6c3_adb8e046ec04row0_col8 {\n",
       "            background-color:  #e4d9d2;\n",
       "            color:  #000000;\n",
       "        }    #T_18ed5f6a_1f43_11ea_a6c3_adb8e046ec04row0_col9 {\n",
       "            background-color:  #f7b497;\n",
       "            color:  #000000;\n",
       "        }    #T_18ed5f6a_1f43_11ea_a6c3_adb8e046ec04row1_col0 {\n",
       "            background-color:  #3b4cc0;\n",
       "            color:  #f1f1f1;\n",
       "        }    #T_18ed5f6a_1f43_11ea_a6c3_adb8e046ec04row1_col1 {\n",
       "            background-color:  #b40426;\n",
       "            color:  #f1f1f1;\n",
       "        }    #T_18ed5f6a_1f43_11ea_a6c3_adb8e046ec04row1_col2 {\n",
       "            background-color:  #7597f6;\n",
       "            color:  #000000;\n",
       "        }    #T_18ed5f6a_1f43_11ea_a6c3_adb8e046ec04row1_col3 {\n",
       "            background-color:  #93b5fe;\n",
       "            color:  #000000;\n",
       "        }    #T_18ed5f6a_1f43_11ea_a6c3_adb8e046ec04row1_col4 {\n",
       "            background-color:  #7ea1fa;\n",
       "            color:  #000000;\n",
       "        }    #T_18ed5f6a_1f43_11ea_a6c3_adb8e046ec04row1_col5 {\n",
       "            background-color:  #3b4cc0;\n",
       "            color:  #f1f1f1;\n",
       "        }    #T_18ed5f6a_1f43_11ea_a6c3_adb8e046ec04row1_col6 {\n",
       "            background-color:  #7ea1fa;\n",
       "            color:  #000000;\n",
       "        }    #T_18ed5f6a_1f43_11ea_a6c3_adb8e046ec04row1_col7 {\n",
       "            background-color:  #3b4cc0;\n",
       "            color:  #f1f1f1;\n",
       "        }    #T_18ed5f6a_1f43_11ea_a6c3_adb8e046ec04row1_col8 {\n",
       "            background-color:  #edd1c2;\n",
       "            color:  #000000;\n",
       "        }    #T_18ed5f6a_1f43_11ea_a6c3_adb8e046ec04row1_col9 {\n",
       "            background-color:  #d2dbe8;\n",
       "            color:  #000000;\n",
       "        }    #T_18ed5f6a_1f43_11ea_a6c3_adb8e046ec04row2_col0 {\n",
       "            background-color:  #6f92f3;\n",
       "            color:  #000000;\n",
       "        }    #T_18ed5f6a_1f43_11ea_a6c3_adb8e046ec04row2_col1 {\n",
       "            background-color:  #b6cefa;\n",
       "            color:  #000000;\n",
       "        }    #T_18ed5f6a_1f43_11ea_a6c3_adb8e046ec04row2_col2 {\n",
       "            background-color:  #b40426;\n",
       "            color:  #f1f1f1;\n",
       "        }    #T_18ed5f6a_1f43_11ea_a6c3_adb8e046ec04row2_col3 {\n",
       "            background-color:  #dddcdc;\n",
       "            color:  #000000;\n",
       "        }    #T_18ed5f6a_1f43_11ea_a6c3_adb8e046ec04row2_col4 {\n",
       "            background-color:  #86a9fc;\n",
       "            color:  #000000;\n",
       "        }    #T_18ed5f6a_1f43_11ea_a6c3_adb8e046ec04row2_col5 {\n",
       "            background-color:  #85a8fc;\n",
       "            color:  #000000;\n",
       "        }    #T_18ed5f6a_1f43_11ea_a6c3_adb8e046ec04row2_col6 {\n",
       "            background-color:  #86a9fc;\n",
       "            color:  #000000;\n",
       "        }    #T_18ed5f6a_1f43_11ea_a6c3_adb8e046ec04row2_col7 {\n",
       "            background-color:  #98b9ff;\n",
       "            color:  #000000;\n",
       "        }    #T_18ed5f6a_1f43_11ea_a6c3_adb8e046ec04row2_col8 {\n",
       "            background-color:  #e8d6cc;\n",
       "            color:  #000000;\n",
       "        }    #T_18ed5f6a_1f43_11ea_a6c3_adb8e046ec04row2_col9 {\n",
       "            background-color:  #cfdaea;\n",
       "            color:  #000000;\n",
       "        }    #T_18ed5f6a_1f43_11ea_a6c3_adb8e046ec04row3_col0 {\n",
       "            background-color:  #6e90f2;\n",
       "            color:  #000000;\n",
       "        }    #T_18ed5f6a_1f43_11ea_a6c3_adb8e046ec04row3_col1 {\n",
       "            background-color:  #80a3fa;\n",
       "            color:  #000000;\n",
       "        }    #T_18ed5f6a_1f43_11ea_a6c3_adb8e046ec04row3_col2 {\n",
       "            background-color:  #9fbfff;\n",
       "            color:  #000000;\n",
       "        }    #T_18ed5f6a_1f43_11ea_a6c3_adb8e046ec04row3_col3 {\n",
       "            background-color:  #b40426;\n",
       "            color:  #f1f1f1;\n",
       "        }    #T_18ed5f6a_1f43_11ea_a6c3_adb8e046ec04row3_col4 {\n",
       "            background-color:  #f7af91;\n",
       "            color:  #000000;\n",
       "        }    #T_18ed5f6a_1f43_11ea_a6c3_adb8e046ec04row3_col5 {\n",
       "            background-color:  #9dbdff;\n",
       "            color:  #000000;\n",
       "        }    #T_18ed5f6a_1f43_11ea_a6c3_adb8e046ec04row3_col6 {\n",
       "            background-color:  #f7af91;\n",
       "            color:  #000000;\n",
       "        }    #T_18ed5f6a_1f43_11ea_a6c3_adb8e046ec04row3_col7 {\n",
       "            background-color:  #d5dbe5;\n",
       "            color:  #000000;\n",
       "        }    #T_18ed5f6a_1f43_11ea_a6c3_adb8e046ec04row3_col8 {\n",
       "            background-color:  #3b4cc0;\n",
       "            color:  #f1f1f1;\n",
       "        }    #T_18ed5f6a_1f43_11ea_a6c3_adb8e046ec04row3_col9 {\n",
       "            background-color:  #3b4cc0;\n",
       "            color:  #f1f1f1;\n",
       "        }    #T_18ed5f6a_1f43_11ea_a6c3_adb8e046ec04row4_col0 {\n",
       "            background-color:  #6e90f2;\n",
       "            color:  #000000;\n",
       "        }    #T_18ed5f6a_1f43_11ea_a6c3_adb8e046ec04row4_col1 {\n",
       "            background-color:  #96b7ff;\n",
       "            color:  #000000;\n",
       "        }    #T_18ed5f6a_1f43_11ea_a6c3_adb8e046ec04row4_col2 {\n",
       "            background-color:  #5572df;\n",
       "            color:  #000000;\n",
       "        }    #T_18ed5f6a_1f43_11ea_a6c3_adb8e046ec04row4_col3 {\n",
       "            background-color:  #f59d7e;\n",
       "            color:  #000000;\n",
       "        }    #T_18ed5f6a_1f43_11ea_a6c3_adb8e046ec04row4_col4 {\n",
       "            background-color:  #b40426;\n",
       "            color:  #f1f1f1;\n",
       "        }    #T_18ed5f6a_1f43_11ea_a6c3_adb8e046ec04row4_col5 {\n",
       "            background-color:  #9dbdff;\n",
       "            color:  #000000;\n",
       "        }    #T_18ed5f6a_1f43_11ea_a6c3_adb8e046ec04row4_col6 {\n",
       "            background-color:  #b40426;\n",
       "            color:  #f1f1f1;\n",
       "        }    #T_18ed5f6a_1f43_11ea_a6c3_adb8e046ec04row4_col7 {\n",
       "            background-color:  #adc9fd;\n",
       "            color:  #000000;\n",
       "        }    #T_18ed5f6a_1f43_11ea_a6c3_adb8e046ec04row4_col8 {\n",
       "            background-color:  #5b7ae5;\n",
       "            color:  #000000;\n",
       "        }    #T_18ed5f6a_1f43_11ea_a6c3_adb8e046ec04row4_col9 {\n",
       "            background-color:  #688aef;\n",
       "            color:  #000000;\n",
       "        }    #T_18ed5f6a_1f43_11ea_a6c3_adb8e046ec04row5_col0 {\n",
       "            background-color:  #5e7de7;\n",
       "            color:  #000000;\n",
       "        }    #T_18ed5f6a_1f43_11ea_a6c3_adb8e046ec04row5_col1 {\n",
       "            background-color:  #3b4cc0;\n",
       "            color:  #f1f1f1;\n",
       "        }    #T_18ed5f6a_1f43_11ea_a6c3_adb8e046ec04row5_col2 {\n",
       "            background-color:  #3b4cc0;\n",
       "            color:  #f1f1f1;\n",
       "        }    #T_18ed5f6a_1f43_11ea_a6c3_adb8e046ec04row5_col3 {\n",
       "            background-color:  #aec9fc;\n",
       "            color:  #000000;\n",
       "        }    #T_18ed5f6a_1f43_11ea_a6c3_adb8e046ec04row5_col4 {\n",
       "            background-color:  #86a9fc;\n",
       "            color:  #000000;\n",
       "        }    #T_18ed5f6a_1f43_11ea_a6c3_adb8e046ec04row5_col5 {\n",
       "            background-color:  #b40426;\n",
       "            color:  #f1f1f1;\n",
       "        }    #T_18ed5f6a_1f43_11ea_a6c3_adb8e046ec04row5_col6 {\n",
       "            background-color:  #86a9fc;\n",
       "            color:  #000000;\n",
       "        }    #T_18ed5f6a_1f43_11ea_a6c3_adb8e046ec04row5_col7 {\n",
       "            background-color:  #98b9ff;\n",
       "            color:  #000000;\n",
       "        }    #T_18ed5f6a_1f43_11ea_a6c3_adb8e046ec04row5_col8 {\n",
       "            background-color:  #5977e3;\n",
       "            color:  #000000;\n",
       "        }    #T_18ed5f6a_1f43_11ea_a6c3_adb8e046ec04row5_col9 {\n",
       "            background-color:  #799cf8;\n",
       "            color:  #000000;\n",
       "        }    #T_18ed5f6a_1f43_11ea_a6c3_adb8e046ec04row6_col0 {\n",
       "            background-color:  #6e90f2;\n",
       "            color:  #000000;\n",
       "        }    #T_18ed5f6a_1f43_11ea_a6c3_adb8e046ec04row6_col1 {\n",
       "            background-color:  #96b7ff;\n",
       "            color:  #000000;\n",
       "        }    #T_18ed5f6a_1f43_11ea_a6c3_adb8e046ec04row6_col2 {\n",
       "            background-color:  #5572df;\n",
       "            color:  #000000;\n",
       "        }    #T_18ed5f6a_1f43_11ea_a6c3_adb8e046ec04row6_col3 {\n",
       "            background-color:  #f59d7e;\n",
       "            color:  #000000;\n",
       "        }    #T_18ed5f6a_1f43_11ea_a6c3_adb8e046ec04row6_col4 {\n",
       "            background-color:  #b40426;\n",
       "            color:  #f1f1f1;\n",
       "        }    #T_18ed5f6a_1f43_11ea_a6c3_adb8e046ec04row6_col5 {\n",
       "            background-color:  #9dbdff;\n",
       "            color:  #000000;\n",
       "        }    #T_18ed5f6a_1f43_11ea_a6c3_adb8e046ec04row6_col6 {\n",
       "            background-color:  #b40426;\n",
       "            color:  #f1f1f1;\n",
       "        }    #T_18ed5f6a_1f43_11ea_a6c3_adb8e046ec04row6_col7 {\n",
       "            background-color:  #adc9fd;\n",
       "            color:  #000000;\n",
       "        }    #T_18ed5f6a_1f43_11ea_a6c3_adb8e046ec04row6_col8 {\n",
       "            background-color:  #5b7ae5;\n",
       "            color:  #000000;\n",
       "        }    #T_18ed5f6a_1f43_11ea_a6c3_adb8e046ec04row6_col9 {\n",
       "            background-color:  #688aef;\n",
       "            color:  #000000;\n",
       "        }    #T_18ed5f6a_1f43_11ea_a6c3_adb8e046ec04row7_col0 {\n",
       "            background-color:  #e7745b;\n",
       "            color:  #000000;\n",
       "        }    #T_18ed5f6a_1f43_11ea_a6c3_adb8e046ec04row7_col1 {\n",
       "            background-color:  #6485ec;\n",
       "            color:  #000000;\n",
       "        }    #T_18ed5f6a_1f43_11ea_a6c3_adb8e046ec04row7_col2 {\n",
       "            background-color:  #799cf8;\n",
       "            color:  #000000;\n",
       "        }    #T_18ed5f6a_1f43_11ea_a6c3_adb8e046ec04row7_col3 {\n",
       "            background-color:  #edd1c2;\n",
       "            color:  #000000;\n",
       "        }    #T_18ed5f6a_1f43_11ea_a6c3_adb8e046ec04row7_col4 {\n",
       "            background-color:  #bad0f8;\n",
       "            color:  #000000;\n",
       "        }    #T_18ed5f6a_1f43_11ea_a6c3_adb8e046ec04row7_col5 {\n",
       "            background-color:  #bad0f8;\n",
       "            color:  #000000;\n",
       "        }    #T_18ed5f6a_1f43_11ea_a6c3_adb8e046ec04row7_col6 {\n",
       "            background-color:  #bad0f8;\n",
       "            color:  #000000;\n",
       "        }    #T_18ed5f6a_1f43_11ea_a6c3_adb8e046ec04row7_col7 {\n",
       "            background-color:  #b40426;\n",
       "            color:  #f1f1f1;\n",
       "        }    #T_18ed5f6a_1f43_11ea_a6c3_adb8e046ec04row7_col8 {\n",
       "            background-color:  #a7c5fe;\n",
       "            color:  #000000;\n",
       "        }    #T_18ed5f6a_1f43_11ea_a6c3_adb8e046ec04row7_col9 {\n",
       "            background-color:  #c3d5f4;\n",
       "            color:  #000000;\n",
       "        }    #T_18ed5f6a_1f43_11ea_a6c3_adb8e046ec04row8_col0 {\n",
       "            background-color:  #cdd9ec;\n",
       "            color:  #000000;\n",
       "        }    #T_18ed5f6a_1f43_11ea_a6c3_adb8e046ec04row8_col1 {\n",
       "            background-color:  #eed0c0;\n",
       "            color:  #000000;\n",
       "        }    #T_18ed5f6a_1f43_11ea_a6c3_adb8e046ec04row8_col2 {\n",
       "            background-color:  #c4d5f3;\n",
       "            color:  #000000;\n",
       "        }    #T_18ed5f6a_1f43_11ea_a6c3_adb8e046ec04row8_col3 {\n",
       "            background-color:  #536edd;\n",
       "            color:  #000000;\n",
       "        }    #T_18ed5f6a_1f43_11ea_a6c3_adb8e046ec04row8_col4 {\n",
       "            background-color:  #455cce;\n",
       "            color:  #f1f1f1;\n",
       "        }    #T_18ed5f6a_1f43_11ea_a6c3_adb8e046ec04row8_col5 {\n",
       "            background-color:  #5b7ae5;\n",
       "            color:  #000000;\n",
       "        }    #T_18ed5f6a_1f43_11ea_a6c3_adb8e046ec04row8_col6 {\n",
       "            background-color:  #455cce;\n",
       "            color:  #f1f1f1;\n",
       "        }    #T_18ed5f6a_1f43_11ea_a6c3_adb8e046ec04row8_col7 {\n",
       "            background-color:  #85a8fc;\n",
       "            color:  #000000;\n",
       "        }    #T_18ed5f6a_1f43_11ea_a6c3_adb8e046ec04row8_col8 {\n",
       "            background-color:  #b40426;\n",
       "            color:  #f1f1f1;\n",
       "        }    #T_18ed5f6a_1f43_11ea_a6c3_adb8e046ec04row8_col9 {\n",
       "            background-color:  #d85646;\n",
       "            color:  #000000;\n",
       "        }    #T_18ed5f6a_1f43_11ea_a6c3_adb8e046ec04row9_col0 {\n",
       "            background-color:  #f0cdbb;\n",
       "            color:  #000000;\n",
       "        }    #T_18ed5f6a_1f43_11ea_a6c3_adb8e046ec04row9_col1 {\n",
       "            background-color:  #c6d6f1;\n",
       "            color:  #000000;\n",
       "        }    #T_18ed5f6a_1f43_11ea_a6c3_adb8e046ec04row9_col2 {\n",
       "            background-color:  #86a9fc;\n",
       "            color:  #000000;\n",
       "        }    #T_18ed5f6a_1f43_11ea_a6c3_adb8e046ec04row9_col3 {\n",
       "            background-color:  #3b4cc0;\n",
       "            color:  #f1f1f1;\n",
       "        }    #T_18ed5f6a_1f43_11ea_a6c3_adb8e046ec04row9_col4 {\n",
       "            background-color:  #3b4cc0;\n",
       "            color:  #f1f1f1;\n",
       "        }    #T_18ed5f6a_1f43_11ea_a6c3_adb8e046ec04row9_col5 {\n",
       "            background-color:  #6384eb;\n",
       "            color:  #000000;\n",
       "        }    #T_18ed5f6a_1f43_11ea_a6c3_adb8e046ec04row9_col6 {\n",
       "            background-color:  #3b4cc0;\n",
       "            color:  #f1f1f1;\n",
       "        }    #T_18ed5f6a_1f43_11ea_a6c3_adb8e046ec04row9_col7 {\n",
       "            background-color:  #93b5fe;\n",
       "            color:  #000000;\n",
       "        }    #T_18ed5f6a_1f43_11ea_a6c3_adb8e046ec04row9_col8 {\n",
       "            background-color:  #da5a49;\n",
       "            color:  #000000;\n",
       "        }    #T_18ed5f6a_1f43_11ea_a6c3_adb8e046ec04row9_col9 {\n",
       "            background-color:  #b40426;\n",
       "            color:  #f1f1f1;\n",
       "        }</style><table id=\"T_18ed5f6a_1f43_11ea_a6c3_adb8e046ec04\" ><thead>    <tr>        <th class=\"blank level0\" ></th>        <th class=\"col_heading level0 col0\" >layer_height</th>        <th class=\"col_heading level0 col1\" >wall_thickness</th>        <th class=\"col_heading level0 col2\" >infill_density</th>        <th class=\"col_heading level0 col3\" >nozzle_temperature</th>        <th class=\"col_heading level0 col4\" >bed_temperature</th>        <th class=\"col_heading level0 col5\" >print_speed</th>        <th class=\"col_heading level0 col6\" >fan_speed</th>        <th class=\"col_heading level0 col7\" >roughness</th>        <th class=\"col_heading level0 col8\" >tension_strenght</th>        <th class=\"col_heading level0 col9\" >elongation</th>    </tr></thead><tbody>\n",
       "                <tr>\n",
       "                        <th id=\"T_18ed5f6a_1f43_11ea_a6c3_adb8e046ec04level0_row0\" class=\"row_heading level0 row0\" >layer_height</th>\n",
       "                        <td id=\"T_18ed5f6a_1f43_11ea_a6c3_adb8e046ec04row0_col0\" class=\"data row0 col0\" >1</td>\n",
       "                        <td id=\"T_18ed5f6a_1f43_11ea_a6c3_adb8e046ec04row0_col1\" class=\"data row0 col1\" >-0.192571</td>\n",
       "                        <td id=\"T_18ed5f6a_1f43_11ea_a6c3_adb8e046ec04row0_col2\" class=\"data row0 col2\" >0.00349856</td>\n",
       "                        <td id=\"T_18ed5f6a_1f43_11ea_a6c3_adb8e046ec04row0_col3\" class=\"data row0 col3\" >-1.78055e-17</td>\n",
       "                        <td id=\"T_18ed5f6a_1f43_11ea_a6c3_adb8e046ec04row0_col4\" class=\"data row0 col4\" >-4.92582e-18</td>\n",
       "                        <td id=\"T_18ed5f6a_1f43_11ea_a6c3_adb8e046ec04row0_col5\" class=\"data row0 col5\" >-0.0555008</td>\n",
       "                        <td id=\"T_18ed5f6a_1f43_11ea_a6c3_adb8e046ec04row0_col6\" class=\"data row0 col6\" >7.88131e-18</td>\n",
       "                        <td id=\"T_18ed5f6a_1f43_11ea_a6c3_adb8e046ec04row0_col7\" class=\"data row0 col7\" >0.801341</td>\n",
       "                        <td id=\"T_18ed5f6a_1f43_11ea_a6c3_adb8e046ec04row0_col8\" class=\"data row0 col8\" >0.33823</td>\n",
       "                        <td id=\"T_18ed5f6a_1f43_11ea_a6c3_adb8e046ec04row0_col9\" class=\"data row0 col9\" >0.507583</td>\n",
       "            </tr>\n",
       "            <tr>\n",
       "                        <th id=\"T_18ed5f6a_1f43_11ea_a6c3_adb8e046ec04level0_row1\" class=\"row_heading level0 row1\" >wall_thickness</th>\n",
       "                        <td id=\"T_18ed5f6a_1f43_11ea_a6c3_adb8e046ec04row1_col0\" class=\"data row1 col0\" >-0.192571</td>\n",
       "                        <td id=\"T_18ed5f6a_1f43_11ea_a6c3_adb8e046ec04row1_col1\" class=\"data row1 col1\" >1</td>\n",
       "                        <td id=\"T_18ed5f6a_1f43_11ea_a6c3_adb8e046ec04row1_col2\" class=\"data row1 col2\" >0.102576</td>\n",
       "                        <td id=\"T_18ed5f6a_1f43_11ea_a6c3_adb8e046ec04row1_col3\" class=\"data row1 col3\" >-0.118493</td>\n",
       "                        <td id=\"T_18ed5f6a_1f43_11ea_a6c3_adb8e046ec04row1_col4\" class=\"data row1 col4\" >-0.0293266</td>\n",
       "                        <td id=\"T_18ed5f6a_1f43_11ea_a6c3_adb8e046ec04row1_col5\" class=\"data row1 col5\" >-0.419531</td>\n",
       "                        <td id=\"T_18ed5f6a_1f43_11ea_a6c3_adb8e046ec04row1_col6\" class=\"data row1 col6\" >-0.0293266</td>\n",
       "                        <td id=\"T_18ed5f6a_1f43_11ea_a6c3_adb8e046ec04row1_col7\" class=\"data row1 col7\" >-0.226987</td>\n",
       "                        <td id=\"T_18ed5f6a_1f43_11ea_a6c3_adb8e046ec04row1_col8\" class=\"data row1 col8\" >0.399849</td>\n",
       "                        <td id=\"T_18ed5f6a_1f43_11ea_a6c3_adb8e046ec04row1_col9\" class=\"data row1 col9\" >0.176364</td>\n",
       "            </tr>\n",
       "            <tr>\n",
       "                        <th id=\"T_18ed5f6a_1f43_11ea_a6c3_adb8e046ec04level0_row2\" class=\"row_heading level0 row2\" >infill_density</th>\n",
       "                        <td id=\"T_18ed5f6a_1f43_11ea_a6c3_adb8e046ec04row2_col0\" class=\"data row2 col0\" >0.00349856</td>\n",
       "                        <td id=\"T_18ed5f6a_1f43_11ea_a6c3_adb8e046ec04row2_col1\" class=\"data row2 col1\" >0.102576</td>\n",
       "                        <td id=\"T_18ed5f6a_1f43_11ea_a6c3_adb8e046ec04row2_col2\" class=\"data row2 col2\" >1</td>\n",
       "                        <td id=\"T_18ed5f6a_1f43_11ea_a6c3_adb8e046ec04row2_col3\" class=\"data row2 col3\" >0.238614</td>\n",
       "                        <td id=\"T_18ed5f6a_1f43_11ea_a6c3_adb8e046ec04row2_col4\" class=\"data row2 col4\" >1.60082e-18</td>\n",
       "                        <td id=\"T_18ed5f6a_1f43_11ea_a6c3_adb8e046ec04row2_col5\" class=\"data row2 col5\" >-0.0943041</td>\n",
       "                        <td id=\"T_18ed5f6a_1f43_11ea_a6c3_adb8e046ec04row2_col6\" class=\"data row2 col6\" >2.56132e-18</td>\n",
       "                        <td id=\"T_18ed5f6a_1f43_11ea_a6c3_adb8e046ec04row2_col7\" class=\"data row2 col7\" >0.118389</td>\n",
       "                        <td id=\"T_18ed5f6a_1f43_11ea_a6c3_adb8e046ec04row2_col8\" class=\"data row2 col8\" >0.358464</td>\n",
       "                        <td id=\"T_18ed5f6a_1f43_11ea_a6c3_adb8e046ec04row2_col9\" class=\"data row2 col9\" >0.159009</td>\n",
       "            </tr>\n",
       "            <tr>\n",
       "                        <th id=\"T_18ed5f6a_1f43_11ea_a6c3_adb8e046ec04level0_row3\" class=\"row_heading level0 row3\" >nozzle_temperature</th>\n",
       "                        <td id=\"T_18ed5f6a_1f43_11ea_a6c3_adb8e046ec04row3_col0\" class=\"data row3 col0\" >-1.78055e-17</td>\n",
       "                        <td id=\"T_18ed5f6a_1f43_11ea_a6c3_adb8e046ec04row3_col1\" class=\"data row3 col1\" >-0.118493</td>\n",
       "                        <td id=\"T_18ed5f6a_1f43_11ea_a6c3_adb8e046ec04row3_col2\" class=\"data row3 col2\" >0.238614</td>\n",
       "                        <td id=\"T_18ed5f6a_1f43_11ea_a6c3_adb8e046ec04row3_col3\" class=\"data row3 col3\" >1</td>\n",
       "                        <td id=\"T_18ed5f6a_1f43_11ea_a6c3_adb8e046ec04row3_col4\" class=\"data row3 col4\" >0.602453</td>\n",
       "                        <td id=\"T_18ed5f6a_1f43_11ea_a6c3_adb8e046ec04row3_col5\" class=\"data row3 col5\" >0</td>\n",
       "                        <td id=\"T_18ed5f6a_1f43_11ea_a6c3_adb8e046ec04row3_col6\" class=\"data row3 col6\" >0.602453</td>\n",
       "                        <td id=\"T_18ed5f6a_1f43_11ea_a6c3_adb8e046ec04row3_col7\" class=\"data row3 col7\" >0.348611</td>\n",
       "                        <td id=\"T_18ed5f6a_1f43_11ea_a6c3_adb8e046ec04row3_col8\" class=\"data row3 col8\" >-0.405908</td>\n",
       "                        <td id=\"T_18ed5f6a_1f43_11ea_a6c3_adb8e046ec04row3_col9\" class=\"data row3 col9\" >-0.527447</td>\n",
       "            </tr>\n",
       "            <tr>\n",
       "                        <th id=\"T_18ed5f6a_1f43_11ea_a6c3_adb8e046ec04level0_row4\" class=\"row_heading level0 row4\" >bed_temperature</th>\n",
       "                        <td id=\"T_18ed5f6a_1f43_11ea_a6c3_adb8e046ec04row4_col0\" class=\"data row4 col0\" >-4.92582e-18</td>\n",
       "                        <td id=\"T_18ed5f6a_1f43_11ea_a6c3_adb8e046ec04row4_col1\" class=\"data row4 col1\" >-0.0293266</td>\n",
       "                        <td id=\"T_18ed5f6a_1f43_11ea_a6c3_adb8e046ec04row4_col2\" class=\"data row4 col2\" >1.60082e-18</td>\n",
       "                        <td id=\"T_18ed5f6a_1f43_11ea_a6c3_adb8e046ec04row4_col3\" class=\"data row4 col3\" >0.602453</td>\n",
       "                        <td id=\"T_18ed5f6a_1f43_11ea_a6c3_adb8e046ec04row4_col4\" class=\"data row4 col4\" >1</td>\n",
       "                        <td id=\"T_18ed5f6a_1f43_11ea_a6c3_adb8e046ec04row4_col5\" class=\"data row4 col5\" >0</td>\n",
       "                        <td id=\"T_18ed5f6a_1f43_11ea_a6c3_adb8e046ec04row4_col6\" class=\"data row4 col6\" >1</td>\n",
       "                        <td id=\"T_18ed5f6a_1f43_11ea_a6c3_adb8e046ec04row4_col7\" class=\"data row4 col7\" >0.192142</td>\n",
       "                        <td id=\"T_18ed5f6a_1f43_11ea_a6c3_adb8e046ec04row4_col8\" class=\"data row4 col8\" >-0.252883</td>\n",
       "                        <td id=\"T_18ed5f6a_1f43_11ea_a6c3_adb8e046ec04row4_col9\" class=\"data row4 col9\" >-0.300871</td>\n",
       "            </tr>\n",
       "            <tr>\n",
       "                        <th id=\"T_18ed5f6a_1f43_11ea_a6c3_adb8e046ec04level0_row5\" class=\"row_heading level0 row5\" >print_speed</th>\n",
       "                        <td id=\"T_18ed5f6a_1f43_11ea_a6c3_adb8e046ec04row5_col0\" class=\"data row5 col0\" >-0.0555008</td>\n",
       "                        <td id=\"T_18ed5f6a_1f43_11ea_a6c3_adb8e046ec04row5_col1\" class=\"data row5 col1\" >-0.419531</td>\n",
       "                        <td id=\"T_18ed5f6a_1f43_11ea_a6c3_adb8e046ec04row5_col2\" class=\"data row5 col2\" >-0.0943041</td>\n",
       "                        <td id=\"T_18ed5f6a_1f43_11ea_a6c3_adb8e046ec04row5_col3\" class=\"data row5 col3\" >0</td>\n",
       "                        <td id=\"T_18ed5f6a_1f43_11ea_a6c3_adb8e046ec04row5_col4\" class=\"data row5 col4\" >0</td>\n",
       "                        <td id=\"T_18ed5f6a_1f43_11ea_a6c3_adb8e046ec04row5_col5\" class=\"data row5 col5\" >1</td>\n",
       "                        <td id=\"T_18ed5f6a_1f43_11ea_a6c3_adb8e046ec04row5_col6\" class=\"data row5 col6\" >0</td>\n",
       "                        <td id=\"T_18ed5f6a_1f43_11ea_a6c3_adb8e046ec04row5_col7\" class=\"data row5 col7\" >0.121066</td>\n",
       "                        <td id=\"T_18ed5f6a_1f43_11ea_a6c3_adb8e046ec04row5_col8\" class=\"data row5 col8\" >-0.26459</td>\n",
       "                        <td id=\"T_18ed5f6a_1f43_11ea_a6c3_adb8e046ec04row5_col9\" class=\"data row5 col9\" >-0.234052</td>\n",
       "            </tr>\n",
       "            <tr>\n",
       "                        <th id=\"T_18ed5f6a_1f43_11ea_a6c3_adb8e046ec04level0_row6\" class=\"row_heading level0 row6\" >fan_speed</th>\n",
       "                        <td id=\"T_18ed5f6a_1f43_11ea_a6c3_adb8e046ec04row6_col0\" class=\"data row6 col0\" >7.88131e-18</td>\n",
       "                        <td id=\"T_18ed5f6a_1f43_11ea_a6c3_adb8e046ec04row6_col1\" class=\"data row6 col1\" >-0.0293266</td>\n",
       "                        <td id=\"T_18ed5f6a_1f43_11ea_a6c3_adb8e046ec04row6_col2\" class=\"data row6 col2\" >2.56132e-18</td>\n",
       "                        <td id=\"T_18ed5f6a_1f43_11ea_a6c3_adb8e046ec04row6_col3\" class=\"data row6 col3\" >0.602453</td>\n",
       "                        <td id=\"T_18ed5f6a_1f43_11ea_a6c3_adb8e046ec04row6_col4\" class=\"data row6 col4\" >1</td>\n",
       "                        <td id=\"T_18ed5f6a_1f43_11ea_a6c3_adb8e046ec04row6_col5\" class=\"data row6 col5\" >0</td>\n",
       "                        <td id=\"T_18ed5f6a_1f43_11ea_a6c3_adb8e046ec04row6_col6\" class=\"data row6 col6\" >1</td>\n",
       "                        <td id=\"T_18ed5f6a_1f43_11ea_a6c3_adb8e046ec04row6_col7\" class=\"data row6 col7\" >0.192142</td>\n",
       "                        <td id=\"T_18ed5f6a_1f43_11ea_a6c3_adb8e046ec04row6_col8\" class=\"data row6 col8\" >-0.252883</td>\n",
       "                        <td id=\"T_18ed5f6a_1f43_11ea_a6c3_adb8e046ec04row6_col9\" class=\"data row6 col9\" >-0.300871</td>\n",
       "            </tr>\n",
       "            <tr>\n",
       "                        <th id=\"T_18ed5f6a_1f43_11ea_a6c3_adb8e046ec04level0_row7\" class=\"row_heading level0 row7\" >roughness</th>\n",
       "                        <td id=\"T_18ed5f6a_1f43_11ea_a6c3_adb8e046ec04row7_col0\" class=\"data row7 col0\" >0.801341</td>\n",
       "                        <td id=\"T_18ed5f6a_1f43_11ea_a6c3_adb8e046ec04row7_col1\" class=\"data row7 col1\" >-0.226987</td>\n",
       "                        <td id=\"T_18ed5f6a_1f43_11ea_a6c3_adb8e046ec04row7_col2\" class=\"data row7 col2\" >0.118389</td>\n",
       "                        <td id=\"T_18ed5f6a_1f43_11ea_a6c3_adb8e046ec04row7_col3\" class=\"data row7 col3\" >0.348611</td>\n",
       "                        <td id=\"T_18ed5f6a_1f43_11ea_a6c3_adb8e046ec04row7_col4\" class=\"data row7 col4\" >0.192142</td>\n",
       "                        <td id=\"T_18ed5f6a_1f43_11ea_a6c3_adb8e046ec04row7_col5\" class=\"data row7 col5\" >0.121066</td>\n",
       "                        <td id=\"T_18ed5f6a_1f43_11ea_a6c3_adb8e046ec04row7_col6\" class=\"data row7 col6\" >0.192142</td>\n",
       "                        <td id=\"T_18ed5f6a_1f43_11ea_a6c3_adb8e046ec04row7_col7\" class=\"data row7 col7\" >1</td>\n",
       "                        <td id=\"T_18ed5f6a_1f43_11ea_a6c3_adb8e046ec04row7_col8\" class=\"data row7 col8\" >0.0516166</td>\n",
       "                        <td id=\"T_18ed5f6a_1f43_11ea_a6c3_adb8e046ec04row7_col9\" class=\"data row7 col9\" >0.0989621</td>\n",
       "            </tr>\n",
       "            <tr>\n",
       "                        <th id=\"T_18ed5f6a_1f43_11ea_a6c3_adb8e046ec04level0_row8\" class=\"row_heading level0 row8\" >tension_strenght</th>\n",
       "                        <td id=\"T_18ed5f6a_1f43_11ea_a6c3_adb8e046ec04row8_col0\" class=\"data row8 col0\" >0.33823</td>\n",
       "                        <td id=\"T_18ed5f6a_1f43_11ea_a6c3_adb8e046ec04row8_col1\" class=\"data row8 col1\" >0.399849</td>\n",
       "                        <td id=\"T_18ed5f6a_1f43_11ea_a6c3_adb8e046ec04row8_col2\" class=\"data row8 col2\" >0.358464</td>\n",
       "                        <td id=\"T_18ed5f6a_1f43_11ea_a6c3_adb8e046ec04row8_col3\" class=\"data row8 col3\" >-0.405908</td>\n",
       "                        <td id=\"T_18ed5f6a_1f43_11ea_a6c3_adb8e046ec04row8_col4\" class=\"data row8 col4\" >-0.252883</td>\n",
       "                        <td id=\"T_18ed5f6a_1f43_11ea_a6c3_adb8e046ec04row8_col5\" class=\"data row8 col5\" >-0.26459</td>\n",
       "                        <td id=\"T_18ed5f6a_1f43_11ea_a6c3_adb8e046ec04row8_col6\" class=\"data row8 col6\" >-0.252883</td>\n",
       "                        <td id=\"T_18ed5f6a_1f43_11ea_a6c3_adb8e046ec04row8_col7\" class=\"data row8 col7\" >0.0516166</td>\n",
       "                        <td id=\"T_18ed5f6a_1f43_11ea_a6c3_adb8e046ec04row8_col8\" class=\"data row8 col8\" >1</td>\n",
       "                        <td id=\"T_18ed5f6a_1f43_11ea_a6c3_adb8e046ec04row8_col9\" class=\"data row8 col9\" >0.838109</td>\n",
       "            </tr>\n",
       "            <tr>\n",
       "                        <th id=\"T_18ed5f6a_1f43_11ea_a6c3_adb8e046ec04level0_row9\" class=\"row_heading level0 row9\" >elongation</th>\n",
       "                        <td id=\"T_18ed5f6a_1f43_11ea_a6c3_adb8e046ec04row9_col0\" class=\"data row9 col0\" >0.507583</td>\n",
       "                        <td id=\"T_18ed5f6a_1f43_11ea_a6c3_adb8e046ec04row9_col1\" class=\"data row9 col1\" >0.176364</td>\n",
       "                        <td id=\"T_18ed5f6a_1f43_11ea_a6c3_adb8e046ec04row9_col2\" class=\"data row9 col2\" >0.159009</td>\n",
       "                        <td id=\"T_18ed5f6a_1f43_11ea_a6c3_adb8e046ec04row9_col3\" class=\"data row9 col3\" >-0.527447</td>\n",
       "                        <td id=\"T_18ed5f6a_1f43_11ea_a6c3_adb8e046ec04row9_col4\" class=\"data row9 col4\" >-0.300871</td>\n",
       "                        <td id=\"T_18ed5f6a_1f43_11ea_a6c3_adb8e046ec04row9_col5\" class=\"data row9 col5\" >-0.234052</td>\n",
       "                        <td id=\"T_18ed5f6a_1f43_11ea_a6c3_adb8e046ec04row9_col6\" class=\"data row9 col6\" >-0.300871</td>\n",
       "                        <td id=\"T_18ed5f6a_1f43_11ea_a6c3_adb8e046ec04row9_col7\" class=\"data row9 col7\" >0.0989621</td>\n",
       "                        <td id=\"T_18ed5f6a_1f43_11ea_a6c3_adb8e046ec04row9_col8\" class=\"data row9 col8\" >0.838109</td>\n",
       "                        <td id=\"T_18ed5f6a_1f43_11ea_a6c3_adb8e046ec04row9_col9\" class=\"data row9 col9\" >1</td>\n",
       "            </tr>\n",
       "    </tbody></table>"
      ],
      "text/plain": [
       "<pandas.io.formats.style.Styler at 0x7ff0f4e4f8d0>"
      ]
     },
     "execution_count": 6,
     "metadata": {},
     "output_type": "execute_result"
    }
   ],
   "source": [
    "corr=df.corr()\n",
    "corr.style.background_gradient(cmap='coolwarm')"
   ]
  },
  {
   "cell_type": "code",
   "execution_count": 7,
   "metadata": {},
   "outputs": [
    {
     "data": {
      "text/plain": [
       "50"
      ]
     },
     "execution_count": 7,
     "metadata": {},
     "output_type": "execute_result"
    }
   ],
   "source": [
    "len(df)"
   ]
  },
  {
   "cell_type": "code",
   "execution_count": 8,
   "metadata": {},
   "outputs": [
    {
     "data": {
      "image/png": "[encoded data removed]",
      "text/plain": [
       "<Figure size 720x720 with 1 Axes>"
      ]
     },
     "metadata": {
      "needs_background": "light"
     },
     "output_type": "display_data"
    }
   ],
   "source": [
    "import seaborn as sns #import seaborn librery\n",
    "fig, ax = plt.subplots(figsize=(10, 10))\n",
    "#fig, ax = plt.subplots()\n",
    "#fig = plt.figure(figsize=(5, 4))\n",
    "#ax = plt.subplots(111)\n",
    "sns.heatmap(df.corr(method='pearson'), annot=True, fmt='.2f', \n",
    "            cmap=plt.get_cmap('coolwarm'), cbar=False, ax=ax)\n",
    "\n",
    "#ax.set_ylim(len(df)-0.5, -0.5)\n",
    "ax.set_ylim(10,0)\n",
    "#ax.set_xlim(len(df),0)\n",
    "#ax.set_ylim(len(df),0)\n",
    "#ax.set_ylim(0)\n",
    "ax.set_yticklabels(ax.get_yticklabels(), rotation=\"horizontal\")\n",
    "\n",
    "#plt.figure(figsize=(10, 4))\n",
    "plt.savefig('result.png', bbox_inches='tight',pad_inches=0.1)"
   ]
  },
  {
   "cell_type": "code",
   "execution_count": null,
   "metadata": {},
   "outputs": [],
   "source": []
  },
  {
   "cell_type": "code",
   "execution_count": 9,
   "metadata": {},
   "outputs": [],
   "source": [
    "#converting text labels to numbers\n",
    "from sklearn.preprocessing import LabelEncoder\n",
    "labelencoder = LabelEncoder()\n",
    "df['infill_pattern'] = labelencoder.fit_transform(df['infill_pattern'])\n",
    "\n",
    "labelencoder1 = LabelEncoder()\n",
    "df['material'] = labelencoder1.fit_transform(df['material'])"
   ]
  },
  {
   "cell_type": "code",
   "execution_count": 10,
   "metadata": {
    "scrolled": true
   },
   "outputs": [
    {
     "data": {
      "text/html": [
       "<div>\n",
       "<style scoped>\n",
       "    .dataframe tbody tr th:only-of-type {\n",
       "        vertical-align: middle;\n",
       "    }\n",
       "\n",
       "    .dataframe tbody tr th {\n",
       "        vertical-align: top;\n",
       "    }\n",
       "\n",
       "    .dataframe thead th {\n",
       "        text-align: right;\n",
       "    }\n",
       "</style>\n",
       "<table border=\"1\" class=\"dataframe\">\n",
       "  <thead>\n",
       "    <tr style=\"text-align: right;\">\n",
       "      <th></th>\n",
       "      <th>layer_height</th>\n",
       "      <th>wall_thickness</th>\n",
       "      <th>infill_density</th>\n",
       "      <th>infill_pattern</th>\n",
       "      <th>nozzle_temperature</th>\n",
       "      <th>bed_temperature</th>\n",
       "      <th>print_speed</th>\n",
       "      <th>material</th>\n",
       "      <th>fan_speed</th>\n",
       "      <th>roughness</th>\n",
       "      <th>tension_strenght</th>\n",
       "      <th>elongation</th>\n",
       "    </tr>\n",
       "  </thead>\n",
       "  <tbody>\n",
       "    <tr>\n",
       "      <th>0</th>\n",
       "      <td>0.02</td>\n",
       "      <td>8</td>\n",
       "      <td>90</td>\n",
       "      <td>0</td>\n",
       "      <td>220</td>\n",
       "      <td>60</td>\n",
       "      <td>40</td>\n",
       "      <td>0</td>\n",
       "      <td>0</td>\n",
       "      <td>25</td>\n",
       "      <td>18</td>\n",
       "      <td>1.2</td>\n",
       "    </tr>\n",
       "    <tr>\n",
       "      <th>1</th>\n",
       "      <td>0.02</td>\n",
       "      <td>7</td>\n",
       "      <td>90</td>\n",
       "      <td>1</td>\n",
       "      <td>225</td>\n",
       "      <td>65</td>\n",
       "      <td>40</td>\n",
       "      <td>0</td>\n",
       "      <td>25</td>\n",
       "      <td>32</td>\n",
       "      <td>16</td>\n",
       "      <td>1.4</td>\n",
       "    </tr>\n",
       "    <tr>\n",
       "      <th>2</th>\n",
       "      <td>0.02</td>\n",
       "      <td>1</td>\n",
       "      <td>80</td>\n",
       "      <td>0</td>\n",
       "      <td>230</td>\n",
       "      <td>70</td>\n",
       "      <td>40</td>\n",
       "      <td>0</td>\n",
       "      <td>50</td>\n",
       "      <td>40</td>\n",
       "      <td>8</td>\n",
       "      <td>0.8</td>\n",
       "    </tr>\n",
       "    <tr>\n",
       "      <th>3</th>\n",
       "      <td>0.02</td>\n",
       "      <td>4</td>\n",
       "      <td>70</td>\n",
       "      <td>1</td>\n",
       "      <td>240</td>\n",
       "      <td>75</td>\n",
       "      <td>40</td>\n",
       "      <td>0</td>\n",
       "      <td>75</td>\n",
       "      <td>68</td>\n",
       "      <td>10</td>\n",
       "      <td>0.5</td>\n",
       "    </tr>\n",
       "    <tr>\n",
       "      <th>4</th>\n",
       "      <td>0.02</td>\n",
       "      <td>6</td>\n",
       "      <td>90</td>\n",
       "      <td>0</td>\n",
       "      <td>250</td>\n",
       "      <td>80</td>\n",
       "      <td>40</td>\n",
       "      <td>0</td>\n",
       "      <td>100</td>\n",
       "      <td>92</td>\n",
       "      <td>5</td>\n",
       "      <td>0.7</td>\n",
       "    </tr>\n",
       "  </tbody>\n",
       "</table>\n",
       "</div>"
      ],
      "text/plain": [
       "   layer_height  wall_thickness  infill_density  infill_pattern  \\\n",
       "0          0.02               8              90               0   \n",
       "1          0.02               7              90               1   \n",
       "2          0.02               1              80               0   \n",
       "3          0.02               4              70               1   \n",
       "4          0.02               6              90               0   \n",
       "\n",
       "   nozzle_temperature  bed_temperature  print_speed  material  fan_speed  \\\n",
       "0                 220               60           40         0          0   \n",
       "1                 225               65           40         0         25   \n",
       "2                 230               70           40         0         50   \n",
       "3                 240               75           40         0         75   \n",
       "4                 250               80           40         0        100   \n",
       "\n",
       "   roughness  tension_strenght  elongation  \n",
       "0         25                18         1.2  \n",
       "1         32                16         1.4  \n",
       "2         40                 8         0.8  \n",
       "3         68                10         0.5  \n",
       "4         92                 5         0.7  "
      ]
     },
     "execution_count": 10,
     "metadata": {},
     "output_type": "execute_result"
    }
   ],
   "source": [
    "df.head()"
   ]
  },
  {
   "cell_type": "code",
   "execution_count": 11,
   "metadata": {},
   "outputs": [],
   "source": [
    "#selecting all the columns except the ones with catagorical values\n",
    "df1=df[df.columns.difference([\"infill_pattern\", \"material\"])]"
   ]
  },
  {
   "cell_type": "code",
   "execution_count": 12,
   "metadata": {},
   "outputs": [
    {
     "data": {
      "text/html": [
       "<div>\n",
       "<style scoped>\n",
       "    .dataframe tbody tr th:only-of-type {\n",
       "        vertical-align: middle;\n",
       "    }\n",
       "\n",
       "    .dataframe tbody tr th {\n",
       "        vertical-align: top;\n",
       "    }\n",
       "\n",
       "    .dataframe thead th {\n",
       "        text-align: right;\n",
       "    }\n",
       "</style>\n",
       "<table border=\"1\" class=\"dataframe\">\n",
       "  <thead>\n",
       "    <tr style=\"text-align: right;\">\n",
       "      <th></th>\n",
       "      <th>bed_temperature</th>\n",
       "      <th>elongation</th>\n",
       "      <th>fan_speed</th>\n",
       "      <th>infill_density</th>\n",
       "      <th>layer_height</th>\n",
       "      <th>nozzle_temperature</th>\n",
       "      <th>print_speed</th>\n",
       "      <th>roughness</th>\n",
       "      <th>tension_strenght</th>\n",
       "      <th>wall_thickness</th>\n",
       "    </tr>\n",
       "  </thead>\n",
       "  <tbody>\n",
       "    <tr>\n",
       "      <th>0</th>\n",
       "      <td>60</td>\n",
       "      <td>1.2</td>\n",
       "      <td>0</td>\n",
       "      <td>90</td>\n",
       "      <td>0.02</td>\n",
       "      <td>220</td>\n",
       "      <td>40</td>\n",
       "      <td>25</td>\n",
       "      <td>18</td>\n",
       "      <td>8</td>\n",
       "    </tr>\n",
       "    <tr>\n",
       "      <th>1</th>\n",
       "      <td>65</td>\n",
       "      <td>1.4</td>\n",
       "      <td>25</td>\n",
       "      <td>90</td>\n",
       "      <td>0.02</td>\n",
       "      <td>225</td>\n",
       "      <td>40</td>\n",
       "      <td>32</td>\n",
       "      <td>16</td>\n",
       "      <td>7</td>\n",
       "    </tr>\n",
       "    <tr>\n",
       "      <th>2</th>\n",
       "      <td>70</td>\n",
       "      <td>0.8</td>\n",
       "      <td>50</td>\n",
       "      <td>80</td>\n",
       "      <td>0.02</td>\n",
       "      <td>230</td>\n",
       "      <td>40</td>\n",
       "      <td>40</td>\n",
       "      <td>8</td>\n",
       "      <td>1</td>\n",
       "    </tr>\n",
       "    <tr>\n",
       "      <th>3</th>\n",
       "      <td>75</td>\n",
       "      <td>0.5</td>\n",
       "      <td>75</td>\n",
       "      <td>70</td>\n",
       "      <td>0.02</td>\n",
       "      <td>240</td>\n",
       "      <td>40</td>\n",
       "      <td>68</td>\n",
       "      <td>10</td>\n",
       "      <td>4</td>\n",
       "    </tr>\n",
       "    <tr>\n",
       "      <th>4</th>\n",
       "      <td>80</td>\n",
       "      <td>0.7</td>\n",
       "      <td>100</td>\n",
       "      <td>90</td>\n",
       "      <td>0.02</td>\n",
       "      <td>250</td>\n",
       "      <td>40</td>\n",
       "      <td>92</td>\n",
       "      <td>5</td>\n",
       "      <td>6</td>\n",
       "    </tr>\n",
       "  </tbody>\n",
       "</table>\n",
       "</div>"
      ],
      "text/plain": [
       "   bed_temperature  elongation  fan_speed  infill_density  layer_height  \\\n",
       "0               60         1.2          0              90          0.02   \n",
       "1               65         1.4         25              90          0.02   \n",
       "2               70         0.8         50              80          0.02   \n",
       "3               75         0.5         75              70          0.02   \n",
       "4               80         0.7        100              90          0.02   \n",
       "\n",
       "   nozzle_temperature  print_speed  roughness  tension_strenght  \\\n",
       "0                 220           40         25                18   \n",
       "1                 225           40         32                16   \n",
       "2                 230           40         40                 8   \n",
       "3                 240           40         68                10   \n",
       "4                 250           40         92                 5   \n",
       "\n",
       "   wall_thickness  \n",
       "0               8  \n",
       "1               7  \n",
       "2               1  \n",
       "3               4  \n",
       "4               6  "
      ]
     },
     "execution_count": 12,
     "metadata": {},
     "output_type": "execute_result"
    }
   ],
   "source": [
    "df1.head()"
   ]
  },
  {
   "cell_type": "code",
   "execution_count": 13,
   "metadata": {},
   "outputs": [],
   "source": [
    "normalized_df=(df1-df1.min())/(df1.max()-df1.min())"
   ]
  },
  {
   "cell_type": "code",
   "execution_count": 14,
   "metadata": {},
   "outputs": [
    {
     "data": {
      "text/html": [
       "<div>\n",
       "<style scoped>\n",
       "    .dataframe tbody tr th:only-of-type {\n",
       "        vertical-align: middle;\n",
       "    }\n",
       "\n",
       "    .dataframe tbody tr th {\n",
       "        vertical-align: top;\n",
       "    }\n",
       "\n",
       "    .dataframe thead th {\n",
       "        text-align: right;\n",
       "    }\n",
       "</style>\n",
       "<table border=\"1\" class=\"dataframe\">\n",
       "  <thead>\n",
       "    <tr style=\"text-align: right;\">\n",
       "      <th></th>\n",
       "      <th>bed_temperature</th>\n",
       "      <th>elongation</th>\n",
       "      <th>fan_speed</th>\n",
       "      <th>infill_density</th>\n",
       "      <th>layer_height</th>\n",
       "      <th>nozzle_temperature</th>\n",
       "      <th>print_speed</th>\n",
       "      <th>roughness</th>\n",
       "      <th>tension_strenght</th>\n",
       "      <th>wall_thickness</th>\n",
       "    </tr>\n",
       "  </thead>\n",
       "  <tbody>\n",
       "    <tr>\n",
       "      <th>0</th>\n",
       "      <td>0.00</td>\n",
       "      <td>0.275862</td>\n",
       "      <td>0.00</td>\n",
       "      <td>1.000</td>\n",
       "      <td>0.0</td>\n",
       "      <td>0.4</td>\n",
       "      <td>0.0</td>\n",
       "      <td>0.011527</td>\n",
       "      <td>0.424242</td>\n",
       "      <td>0.777778</td>\n",
       "    </tr>\n",
       "    <tr>\n",
       "      <th>1</th>\n",
       "      <td>0.25</td>\n",
       "      <td>0.344828</td>\n",
       "      <td>0.25</td>\n",
       "      <td>1.000</td>\n",
       "      <td>0.0</td>\n",
       "      <td>0.5</td>\n",
       "      <td>0.0</td>\n",
       "      <td>0.031700</td>\n",
       "      <td>0.363636</td>\n",
       "      <td>0.666667</td>\n",
       "    </tr>\n",
       "    <tr>\n",
       "      <th>2</th>\n",
       "      <td>0.50</td>\n",
       "      <td>0.137931</td>\n",
       "      <td>0.50</td>\n",
       "      <td>0.875</td>\n",
       "      <td>0.0</td>\n",
       "      <td>0.6</td>\n",
       "      <td>0.0</td>\n",
       "      <td>0.054755</td>\n",
       "      <td>0.121212</td>\n",
       "      <td>0.000000</td>\n",
       "    </tr>\n",
       "    <tr>\n",
       "      <th>3</th>\n",
       "      <td>0.75</td>\n",
       "      <td>0.034483</td>\n",
       "      <td>0.75</td>\n",
       "      <td>0.750</td>\n",
       "      <td>0.0</td>\n",
       "      <td>0.8</td>\n",
       "      <td>0.0</td>\n",
       "      <td>0.135447</td>\n",
       "      <td>0.181818</td>\n",
       "      <td>0.333333</td>\n",
       "    </tr>\n",
       "    <tr>\n",
       "      <th>4</th>\n",
       "      <td>1.00</td>\n",
       "      <td>0.103448</td>\n",
       "      <td>1.00</td>\n",
       "      <td>1.000</td>\n",
       "      <td>0.0</td>\n",
       "      <td>1.0</td>\n",
       "      <td>0.0</td>\n",
       "      <td>0.204611</td>\n",
       "      <td>0.030303</td>\n",
       "      <td>0.555556</td>\n",
       "    </tr>\n",
       "  </tbody>\n",
       "</table>\n",
       "</div>"
      ],
      "text/plain": [
       "   bed_temperature  elongation  fan_speed  infill_density  layer_height  \\\n",
       "0             0.00    0.275862       0.00           1.000           0.0   \n",
       "1             0.25    0.344828       0.25           1.000           0.0   \n",
       "2             0.50    0.137931       0.50           0.875           0.0   \n",
       "3             0.75    0.034483       0.75           0.750           0.0   \n",
       "4             1.00    0.103448       1.00           1.000           0.0   \n",
       "\n",
       "   nozzle_temperature  print_speed  roughness  tension_strenght  \\\n",
       "0                 0.4          0.0   0.011527          0.424242   \n",
       "1                 0.5          0.0   0.031700          0.363636   \n",
       "2                 0.6          0.0   0.054755          0.121212   \n",
       "3                 0.8          0.0   0.135447          0.181818   \n",
       "4                 1.0          0.0   0.204611          0.030303   \n",
       "\n",
       "   wall_thickness  \n",
       "0        0.777778  \n",
       "1        0.666667  \n",
       "2        0.000000  \n",
       "3        0.333333  \n",
       "4        0.555556  "
      ]
     },
     "execution_count": 14,
     "metadata": {},
     "output_type": "execute_result"
    }
   ],
   "source": [
    "normalized_df.head()"
   ]
  },
  {
   "cell_type": "code",
   "execution_count": 15,
   "metadata": {},
   "outputs": [],
   "source": [
    "n_df1=pd.concat([normalized_df, df['infill_pattern'], df['material']], axis=1)"
   ]
  },
  {
   "cell_type": "code",
   "execution_count": 16,
   "metadata": {
    "scrolled": true
   },
   "outputs": [
    {
     "data": {
      "text/html": [
       "<div>\n",
       "<style scoped>\n",
       "    .dataframe tbody tr th:only-of-type {\n",
       "        vertical-align: middle;\n",
       "    }\n",
       "\n",
       "    .dataframe tbody tr th {\n",
       "        vertical-align: top;\n",
       "    }\n",
       "\n",
       "    .dataframe thead th {\n",
       "        text-align: right;\n",
       "    }\n",
       "</style>\n",
       "<table border=\"1\" class=\"dataframe\">\n",
       "  <thead>\n",
       "    <tr style=\"text-align: right;\">\n",
       "      <th></th>\n",
       "      <th>bed_temperature</th>\n",
       "      <th>elongation</th>\n",
       "      <th>fan_speed</th>\n",
       "      <th>infill_density</th>\n",
       "      <th>layer_height</th>\n",
       "      <th>nozzle_temperature</th>\n",
       "      <th>print_speed</th>\n",
       "      <th>roughness</th>\n",
       "      <th>tension_strenght</th>\n",
       "      <th>wall_thickness</th>\n",
       "      <th>infill_pattern</th>\n",
       "      <th>material</th>\n",
       "    </tr>\n",
       "  </thead>\n",
       "  <tbody>\n",
       "    <tr>\n",
       "      <th>0</th>\n",
       "      <td>0.00</td>\n",
       "      <td>0.275862</td>\n",
       "      <td>0.00</td>\n",
       "      <td>1.000</td>\n",
       "      <td>0.0</td>\n",
       "      <td>0.4</td>\n",
       "      <td>0.0</td>\n",
       "      <td>0.011527</td>\n",
       "      <td>0.424242</td>\n",
       "      <td>0.777778</td>\n",
       "      <td>0</td>\n",
       "      <td>0</td>\n",
       "    </tr>\n",
       "    <tr>\n",
       "      <th>1</th>\n",
       "      <td>0.25</td>\n",
       "      <td>0.344828</td>\n",
       "      <td>0.25</td>\n",
       "      <td>1.000</td>\n",
       "      <td>0.0</td>\n",
       "      <td>0.5</td>\n",
       "      <td>0.0</td>\n",
       "      <td>0.031700</td>\n",
       "      <td>0.363636</td>\n",
       "      <td>0.666667</td>\n",
       "      <td>1</td>\n",
       "      <td>0</td>\n",
       "    </tr>\n",
       "    <tr>\n",
       "      <th>2</th>\n",
       "      <td>0.50</td>\n",
       "      <td>0.137931</td>\n",
       "      <td>0.50</td>\n",
       "      <td>0.875</td>\n",
       "      <td>0.0</td>\n",
       "      <td>0.6</td>\n",
       "      <td>0.0</td>\n",
       "      <td>0.054755</td>\n",
       "      <td>0.121212</td>\n",
       "      <td>0.000000</td>\n",
       "      <td>0</td>\n",
       "      <td>0</td>\n",
       "    </tr>\n",
       "    <tr>\n",
       "      <th>3</th>\n",
       "      <td>0.75</td>\n",
       "      <td>0.034483</td>\n",
       "      <td>0.75</td>\n",
       "      <td>0.750</td>\n",
       "      <td>0.0</td>\n",
       "      <td>0.8</td>\n",
       "      <td>0.0</td>\n",
       "      <td>0.135447</td>\n",
       "      <td>0.181818</td>\n",
       "      <td>0.333333</td>\n",
       "      <td>1</td>\n",
       "      <td>0</td>\n",
       "    </tr>\n",
       "    <tr>\n",
       "      <th>4</th>\n",
       "      <td>1.00</td>\n",
       "      <td>0.103448</td>\n",
       "      <td>1.00</td>\n",
       "      <td>1.000</td>\n",
       "      <td>0.0</td>\n",
       "      <td>1.0</td>\n",
       "      <td>0.0</td>\n",
       "      <td>0.204611</td>\n",
       "      <td>0.030303</td>\n",
       "      <td>0.555556</td>\n",
       "      <td>0</td>\n",
       "      <td>0</td>\n",
       "    </tr>\n",
       "  </tbody>\n",
       "</table>\n",
       "</div>"
      ],
      "text/plain": [
       "   bed_temperature  elongation  fan_speed  infill_density  layer_height  \\\n",
       "0             0.00    0.275862       0.00           1.000           0.0   \n",
       "1             0.25    0.344828       0.25           1.000           0.0   \n",
       "2             0.50    0.137931       0.50           0.875           0.0   \n",
       "3             0.75    0.034483       0.75           0.750           0.0   \n",
       "4             1.00    0.103448       1.00           1.000           0.0   \n",
       "\n",
       "   nozzle_temperature  print_speed  roughness  tension_strenght  \\\n",
       "0                 0.4          0.0   0.011527          0.424242   \n",
       "1                 0.5          0.0   0.031700          0.363636   \n",
       "2                 0.6          0.0   0.054755          0.121212   \n",
       "3                 0.8          0.0   0.135447          0.181818   \n",
       "4                 1.0          0.0   0.204611          0.030303   \n",
       "\n",
       "   wall_thickness  infill_pattern  material  \n",
       "0        0.777778               0         0  \n",
       "1        0.666667               1         0  \n",
       "2        0.000000               0         0  \n",
       "3        0.333333               1         0  \n",
       "4        0.555556               0         0  "
      ]
     },
     "execution_count": 16,
     "metadata": {},
     "output_type": "execute_result"
    }
   ],
   "source": [
    "n_df1.head()"
   ]
  },
  {
   "cell_type": "code",
   "execution_count": 65,
   "metadata": {},
   "outputs": [],
   "source": [
    "# n_df1_test_train=n_df1.iloc[:-1,:]\n",
    "# n_df1_valid=n_df1.iloc[-1:,:]"
   ]
  },
  {
   "cell_type": "code",
   "execution_count": 68,
   "metadata": {},
   "outputs": [],
   "source": [
    "n_df1_test_train=n_df1\n",
    "#n_df1_valid=n_df1.iloc[-1:,:]"
   ]
  },
  {
   "cell_type": "code",
   "execution_count": 89,
   "metadata": {},
   "outputs": [],
   "source": [
    "##n_df1.shape"
   ]
  },
  {
   "cell_type": "code",
   "execution_count": 88,
   "metadata": {},
   "outputs": [],
   "source": [
    "#n_df1_test_train.shape"
   ]
  },
  {
   "cell_type": "code",
   "execution_count": 87,
   "metadata": {},
   "outputs": [],
   "source": [
    "#n_df1_valid.shape"
   ]
  },
  {
   "cell_type": "code",
   "execution_count": 69,
   "metadata": {},
   "outputs": [],
   "source": [
    "# X=df.iloc[:,:-3]\n",
    "# y=df.iloc[:,-3:]\n",
    "y1=n_df1_test_train[['roughness']]\n",
    "y2=n_df1_test_train[['tension_strenght']]\n",
    "y3=n_df1_test_train[['elongation']]\n",
    "X=n_df1_test_train[n_df1_test_train.columns.difference(['roughness', 'tension_strenght', 'elongation'])]"
   ]
  },
  {
   "cell_type": "code",
   "execution_count": 70,
   "metadata": {},
   "outputs": [
    {
     "data": {
      "text/html": [
       "<div>\n",
       "<style scoped>\n",
       "    .dataframe tbody tr th:only-of-type {\n",
       "        vertical-align: middle;\n",
       "    }\n",
       "\n",
       "    .dataframe tbody tr th {\n",
       "        vertical-align: top;\n",
       "    }\n",
       "\n",
       "    .dataframe thead th {\n",
       "        text-align: right;\n",
       "    }\n",
       "</style>\n",
       "<table border=\"1\" class=\"dataframe\">\n",
       "  <thead>\n",
       "    <tr style=\"text-align: right;\">\n",
       "      <th></th>\n",
       "      <th>bed_temperature</th>\n",
       "      <th>fan_speed</th>\n",
       "      <th>infill_density</th>\n",
       "      <th>infill_pattern</th>\n",
       "      <th>layer_height</th>\n",
       "      <th>material</th>\n",
       "      <th>nozzle_temperature</th>\n",
       "      <th>print_speed</th>\n",
       "      <th>wall_thickness</th>\n",
       "    </tr>\n",
       "  </thead>\n",
       "  <tbody>\n",
       "    <tr>\n",
       "      <th>0</th>\n",
       "      <td>0.00</td>\n",
       "      <td>0.00</td>\n",
       "      <td>1.000</td>\n",
       "      <td>0</td>\n",
       "      <td>0.0</td>\n",
       "      <td>0</td>\n",
       "      <td>0.4</td>\n",
       "      <td>0.0</td>\n",
       "      <td>0.777778</td>\n",
       "    </tr>\n",
       "    <tr>\n",
       "      <th>1</th>\n",
       "      <td>0.25</td>\n",
       "      <td>0.25</td>\n",
       "      <td>1.000</td>\n",
       "      <td>1</td>\n",
       "      <td>0.0</td>\n",
       "      <td>0</td>\n",
       "      <td>0.5</td>\n",
       "      <td>0.0</td>\n",
       "      <td>0.666667</td>\n",
       "    </tr>\n",
       "    <tr>\n",
       "      <th>2</th>\n",
       "      <td>0.50</td>\n",
       "      <td>0.50</td>\n",
       "      <td>0.875</td>\n",
       "      <td>0</td>\n",
       "      <td>0.0</td>\n",
       "      <td>0</td>\n",
       "      <td>0.6</td>\n",
       "      <td>0.0</td>\n",
       "      <td>0.000000</td>\n",
       "    </tr>\n",
       "    <tr>\n",
       "      <th>3</th>\n",
       "      <td>0.75</td>\n",
       "      <td>0.75</td>\n",
       "      <td>0.750</td>\n",
       "      <td>1</td>\n",
       "      <td>0.0</td>\n",
       "      <td>0</td>\n",
       "      <td>0.8</td>\n",
       "      <td>0.0</td>\n",
       "      <td>0.333333</td>\n",
       "    </tr>\n",
       "    <tr>\n",
       "      <th>4</th>\n",
       "      <td>1.00</td>\n",
       "      <td>1.00</td>\n",
       "      <td>1.000</td>\n",
       "      <td>0</td>\n",
       "      <td>0.0</td>\n",
       "      <td>0</td>\n",
       "      <td>1.0</td>\n",
       "      <td>0.0</td>\n",
       "      <td>0.555556</td>\n",
       "    </tr>\n",
       "  </tbody>\n",
       "</table>\n",
       "</div>"
      ],
      "text/plain": [
       "   bed_temperature  fan_speed  infill_density  infill_pattern  layer_height  \\\n",
       "0             0.00       0.00           1.000               0           0.0   \n",
       "1             0.25       0.25           1.000               1           0.0   \n",
       "2             0.50       0.50           0.875               0           0.0   \n",
       "3             0.75       0.75           0.750               1           0.0   \n",
       "4             1.00       1.00           1.000               0           0.0   \n",
       "\n",
       "   material  nozzle_temperature  print_speed  wall_thickness  \n",
       "0         0                 0.4          0.0        0.777778  \n",
       "1         0                 0.5          0.0        0.666667  \n",
       "2         0                 0.6          0.0        0.000000  \n",
       "3         0                 0.8          0.0        0.333333  \n",
       "4         0                 1.0          0.0        0.555556  "
      ]
     },
     "execution_count": 70,
     "metadata": {},
     "output_type": "execute_result"
    }
   ],
   "source": [
    "X.head()"
   ]
  },
  {
   "cell_type": "code",
   "execution_count": 71,
   "metadata": {},
   "outputs": [],
   "source": [
    "from sklearn.model_selection import train_test_split\n",
    "#X_train, X_test, y_train, y_test = train_test_split(X, y, test_size=0.33, random_state=42)\n",
    "X1_train, X1_test, y1_train, y1_test = train_test_split(X, y1, test_size=0.5, random_state=42)\n",
    "X2_train, X2_test, y2_train, y2_test = train_test_split(X, y2, test_size=0.33, random_state=42)\n",
    "X3_train, X3_test, y3_train, y3_test = train_test_split(X, y3, test_size=0.33, random_state=42)"
   ]
  },
  {
   "cell_type": "code",
   "execution_count": 72,
   "metadata": {
    "scrolled": true
   },
   "outputs": [
    {
     "name": "stdout",
     "output_type": "stream",
     "text": [
      "R-squared score X1-roughness(training): 0.907\n",
      "R-squared score X1-roughness(test): 0.746\n"
     ]
    }
   ],
   "source": [
    "#linear regression\n",
    "from sklearn.linear_model import LinearRegression\n",
    "linreg = LinearRegression().fit(X1_train, y1_train)\n",
    "print('R-squared score X1-roughness(training): {:.3f}'\n",
    "     .format(linreg.score(X1_train, y1_train)))\n",
    "print('R-squared score X1-roughness(test): {:.3f}'\n",
    "     .format(linreg.score(X1_test, y1_test)))"
   ]
  },
  {
   "cell_type": "code",
   "execution_count": 1,
   "metadata": {},
   "outputs": [],
   "source": [
    "#plotting actual vs predicted\n",
    "# y1_pred=linreg.predict(X1_test)\n",
    "# plt.scatter(X1_test, y1_test,  color='gray')\n",
    "# plt.plot(X1_test, y1_pred, color='red', linewidth=2)\n",
    "# plt.show()"
   ]
  },
  {
   "cell_type": "code",
   "execution_count": 73,
   "metadata": {},
   "outputs": [
    {
     "name": "stdout",
     "output_type": "stream",
     "text": [
      "R-squared score X2-tension_strength(training): 0.652\n",
      "R-squared score X2-tension_strength(test): 0.662\n"
     ]
    }
   ],
   "source": [
    "from sklearn.linear_model import LinearRegression\n",
    "linreg2 = LinearRegression().fit(X2_train, y2_train)\n",
    "print('R-squared score X2-tension_strength(training): {:.3f}'\n",
    "     .format(linreg2.score(X2_train, y2_train)))\n",
    "print('R-squared score X2-tension_strength(test): {:.3f}'\n",
    "     .format(linreg2.score(X2_test, y2_test)))"
   ]
  },
  {
   "cell_type": "code",
   "execution_count": 74,
   "metadata": {},
   "outputs": [
    {
     "name": "stdout",
     "output_type": "stream",
     "text": [
      "R-squared score X3-elongation(training): 0.718\n",
      "R-squared score X3-elongation(test): 0.663\n"
     ]
    }
   ],
   "source": [
    "from sklearn.linear_model import LinearRegression\n",
    "linreg3 = LinearRegression().fit(X3_train, y3_train)\n",
    "print('R-squared score X3-elongation(training): {:.3f}'\n",
    "     .format(linreg3.score(X3_train, y3_train)))\n",
    "print('R-squared score X3-elongation(test): {:.3f}'\n",
    "     .format(linreg3.score(X3_test, y3_test)))"
   ]
  },
  {
   "cell_type": "code",
   "execution_count": 44,
   "metadata": {},
   "outputs": [
    {
     "name": "stdout",
     "output_type": "stream",
     "text": [
      "R-squared score X1_poly(training): 1.000\n",
      "R-squared score X1_poly(test): 0.619\n"
     ]
    }
   ],
   "source": [
    "# Fitting Polynomial Regression to the dataset \n",
    "from sklearn.preprocessing import PolynomialFeatures\n",
    "poly = PolynomialFeatures(degree = 4) \n",
    "X1_train_poly = poly.fit_transform(X1_train) \n",
    "X1_test_poly = poly.fit_transform(X1_test) \n",
    "\n",
    "poly.fit(X1_train_poly, y1_train) \n",
    "lin2 = LinearRegression() \n",
    "lin2.fit(X1_train_poly, y1_train) \n",
    "\n",
    "print('R-squared score X1_poly-roughness(training): {:.3f}'\n",
    "     .format(lin2.score(X1_train_poly, y1_train)))\n",
    "print('R-squared score X1_poly-roughness(test): {:.3f}'\n",
    "     .format(lin2.score(X1_test_poly, y1_test)))"
   ]
  },
  {
   "cell_type": "code",
   "execution_count": 36,
   "metadata": {},
   "outputs": [
    {
     "name": "stdout",
     "output_type": "stream",
     "text": [
      "R-squared score X2_poly-tensileStrength(training): 1.000\n",
      "R-squared score X2_poly-tensileStrength(test): -0.713\n"
     ]
    }
   ],
   "source": [
    "# Fitting Polynomial Regression to the dataset \n",
    "from sklearn.preprocessing import PolynomialFeatures\n",
    "poly = PolynomialFeatures(degree = 4) \n",
    "X2_train_poly = poly.fit_transform(X2_train) \n",
    "X2_test_poly = poly.fit_transform(X2_test) \n",
    "\n",
    "poly.fit(X2_train_poly, y2_train) \n",
    "lin2_2 = LinearRegression() \n",
    "lin2_2.fit(X2_train_poly, y2_train) \n",
    "\n",
    "print('R-squared score X2_poly-tensileStrength(training): {:.3f}'\n",
    "     .format(lin2_2.score(X2_train_poly, y2_train)))\n",
    "print('R-squared score X2_poly-tensileStrength(test): {:.3f}'\n",
    "     .format(lin2_2.score(X2_test_poly, y2_test)))"
   ]
  },
  {
   "cell_type": "code",
   "execution_count": 37,
   "metadata": {},
   "outputs": [
    {
     "name": "stdout",
     "output_type": "stream",
     "text": [
      "R-squared score X3_poly-elongation(training): 1.000\n",
      "R-squared score X3_poly-elongation(test): 0.395\n"
     ]
    }
   ],
   "source": [
    "# Fitting Polynomial Regression to the dataset \n",
    "from sklearn.preprocessing import PolynomialFeatures\n",
    "poly = PolynomialFeatures(degree = 4) \n",
    "X3_train_poly = poly.fit_transform(X3_train) \n",
    "X3_test_poly = poly.fit_transform(X3_test) \n",
    "\n",
    "poly.fit(X3_train_poly, y3_train) \n",
    "lin2_3 = LinearRegression() \n",
    "lin2_3.fit(X3_train_poly, y3_train) \n",
    "\n",
    "print('R-squared score X3_poly-elongation(training): {:.3f}'\n",
    "     .format(lin2_3.score(X3_train_poly, y3_train)))\n",
    "print('R-squared score X3_poly-elongation(test): {:.3f}'\n",
    "     .format(lin2_3.score(X3_test_poly, y3_test)))"
   ]
  },
  {
   "cell_type": "code",
   "execution_count": 75,
   "metadata": {
    "scrolled": true
   },
   "outputs": [
    {
     "name": "stdout",
     "output_type": "stream",
     "text": [
      "R-squared score X1_nn(training): 1.000\n",
      "R-squared score X1_nn(test): 0.828\n"
     ]
    },
    {
     "name": "stderr",
     "output_type": "stream",
     "text": [
      "/home/suvo/anaconda3/envs/py37/lib/python3.7/site-packages/sklearn/neural_network/multilayer_perceptron.py:1321: DataConversionWarning: A column-vector y was passed when a 1d array was expected. Please change the shape of y to (n_samples, ), for example using ravel().\n",
      "  y = column_or_1d(y, warn=True)\n"
     ]
    }
   ],
   "source": [
    "#nural net\n",
    "from sklearn.neural_network import MLPRegressor\n",
    "#mlpreg = MLPRegressor(hidden_layer_sizes = [100,100],activation = 'tanh',alpha = 0.0003,solver = 'lbfgs').fit(X1_train, y1_train)\n",
    "mlpreg = MLPRegressor(hidden_layer_sizes = [100,100],activation = 'relu',alpha = 0.0003,solver = 'lbfgs').fit(X1_train, y1_train)\n",
    "\n",
    "print('R-squared score X1_nn(training): {:.3f}'\n",
    "     .format(mlpreg.score(X1_train, y1_train)))\n",
    "print('R-squared score X1_nn(test): {:.3f}'\n",
    "     .format(mlpreg.score(X1_test, y1_test)))"
   ]
  },
  {
   "cell_type": "code",
   "execution_count": 76,
   "metadata": {},
   "outputs": [
    {
     "name": "stderr",
     "output_type": "stream",
     "text": [
      "/home/suvo/anaconda3/envs/py37/lib/python3.7/site-packages/sklearn/neural_network/multilayer_perceptron.py:1321: DataConversionWarning: A column-vector y was passed when a 1d array was expected. Please change the shape of y to (n_samples, ), for example using ravel().\n",
      "  y = column_or_1d(y, warn=True)\n"
     ]
    },
    {
     "name": "stdout",
     "output_type": "stream",
     "text": [
      "R-squared score X2_nn-tensileStrength(training): 1.000\n",
      "R-squared score X1_nn-tensileStrength(test): 0.532\n"
     ]
    }
   ],
   "source": [
    "#nural net\n",
    "from sklearn.neural_network import MLPRegressor\n",
    "#mlpreg = MLPRegressor(hidden_layer_sizes = [100,100],activation = 'tanh',alpha = 0.0003,solver = 'lbfgs').fit(X1_train, y1_train)\n",
    "mlpreg2 = MLPRegressor(hidden_layer_sizes = [100,100],activation = 'relu',alpha = 0.0003,solver = 'lbfgs').fit(X2_train, y2_train)\n",
    "\n",
    "print('R-squared score X2_nn-tensileStrength(training): {:.3f}'\n",
    "     .format(mlpreg2.score(X2_train, y2_train)))\n",
    "print('R-squared score X1_nn-tensileStrength(test): {:.3f}'\n",
    "     .format(mlpreg2.score(X2_test, y2_test)))"
   ]
  },
  {
   "cell_type": "code",
   "execution_count": 77,
   "metadata": {},
   "outputs": [
    {
     "name": "stderr",
     "output_type": "stream",
     "text": [
      "/home/suvo/anaconda3/envs/py37/lib/python3.7/site-packages/sklearn/neural_network/multilayer_perceptron.py:1321: DataConversionWarning: A column-vector y was passed when a 1d array was expected. Please change the shape of y to (n_samples, ), for example using ravel().\n",
      "  y = column_or_1d(y, warn=True)\n"
     ]
    },
    {
     "name": "stdout",
     "output_type": "stream",
     "text": [
      "R-squared score X3_nn-elongation(training): 1.000\n",
      "R-squared score X3_nn-elongation(test): 0.676\n"
     ]
    }
   ],
   "source": [
    "#nural net\n",
    "from sklearn.neural_network import MLPRegressor\n",
    "#mlpreg = MLPRegressor(hidden_layer_sizes = [100,100],activation = 'tanh',alpha = 0.0003,solver = 'lbfgs').fit(X1_train, y1_train)\n",
    "mlpreg3 = MLPRegressor(hidden_layer_sizes = [100,100],activation = 'relu',alpha = 0.0003,solver = 'lbfgs').fit(X3_train, y3_train)\n",
    "\n",
    "print('R-squared score X3_nn-elongation(training): {:.3f}'\n",
    "     .format(mlpreg3.score(X3_train, y3_train)))\n",
    "print('R-squared score X3_nn-elongation(test): {:.3f}'\n",
    "     .format(mlpreg3.score(X3_test, y3_test)))"
   ]
  },
  {
   "cell_type": "code",
   "execution_count": 84,
   "metadata": {},
   "outputs": [],
   "source": [
    "#n_df1_valid"
   ]
  },
  {
   "cell_type": "code",
   "execution_count": 86,
   "metadata": {},
   "outputs": [],
   "source": [
    "#n_df1_valid_X=n_df1_valid[n_df1_valid.columns.difference(['roughness', 'tension_strenght', 'elongation'])]"
   ]
  },
  {
   "cell_type": "code",
   "execution_count": 85,
   "metadata": {},
   "outputs": [],
   "source": [
    "#n_df1_valid_X.iloc[1:2,:]"
   ]
  },
  {
   "cell_type": "code",
   "execution_count": 90,
   "metadata": {},
   "outputs": [
    {
     "data": {
      "text/html": [
       "<div>\n",
       "<style scoped>\n",
       "    .dataframe tbody tr th:only-of-type {\n",
       "        vertical-align: middle;\n",
       "    }\n",
       "\n",
       "    .dataframe tbody tr th {\n",
       "        vertical-align: top;\n",
       "    }\n",
       "\n",
       "    .dataframe thead th {\n",
       "        text-align: right;\n",
       "    }\n",
       "</style>\n",
       "<table border=\"1\" class=\"dataframe\">\n",
       "  <thead>\n",
       "    <tr style=\"text-align: right;\">\n",
       "      <th></th>\n",
       "      <th>bed_temperature</th>\n",
       "      <th>fan_speed</th>\n",
       "      <th>infill_density</th>\n",
       "      <th>infill_pattern</th>\n",
       "      <th>layer_height</th>\n",
       "      <th>material</th>\n",
       "      <th>nozzle_temperature</th>\n",
       "      <th>print_speed</th>\n",
       "      <th>wall_thickness</th>\n",
       "    </tr>\n",
       "  </thead>\n",
       "  <tbody>\n",
       "    <tr>\n",
       "      <th>39</th>\n",
       "      <td>1.0</td>\n",
       "      <td>1.0</td>\n",
       "      <td>0.0</td>\n",
       "      <td>1</td>\n",
       "      <td>0.722222</td>\n",
       "      <td>1</td>\n",
       "      <td>0.4</td>\n",
       "      <td>0.25</td>\n",
       "      <td>0.0</td>\n",
       "    </tr>\n",
       "  </tbody>\n",
       "</table>\n",
       "</div>"
      ],
      "text/plain": [
       "    bed_temperature  fan_speed  infill_density  infill_pattern  layer_height  \\\n",
       "39              1.0        1.0             0.0               1      0.722222   \n",
       "\n",
       "    material  nozzle_temperature  print_speed  wall_thickness  \n",
       "39         1                 0.4         0.25             0.0  "
      ]
     },
     "execution_count": 90,
     "metadata": {},
     "output_type": "execute_result"
    }
   ],
   "source": [
    "X1_test.iloc[1:2,:]"
   ]
  },
  {
   "cell_type": "code",
   "execution_count": 91,
   "metadata": {},
   "outputs": [
    {
     "data": {
      "text/html": [
       "<div>\n",
       "<style scoped>\n",
       "    .dataframe tbody tr th:only-of-type {\n",
       "        vertical-align: middle;\n",
       "    }\n",
       "\n",
       "    .dataframe tbody tr th {\n",
       "        vertical-align: top;\n",
       "    }\n",
       "\n",
       "    .dataframe thead th {\n",
       "        text-align: right;\n",
       "    }\n",
       "</style>\n",
       "<table border=\"1\" class=\"dataframe\">\n",
       "  <thead>\n",
       "    <tr style=\"text-align: right;\">\n",
       "      <th></th>\n",
       "      <th>roughness</th>\n",
       "    </tr>\n",
       "  </thead>\n",
       "  <tbody>\n",
       "    <tr>\n",
       "      <th>39</th>\n",
       "      <td>0.409222</td>\n",
       "    </tr>\n",
       "  </tbody>\n",
       "</table>\n",
       "</div>"
      ],
      "text/plain": [
       "    roughness\n",
       "39   0.409222"
      ]
     },
     "execution_count": 91,
     "metadata": {},
     "output_type": "execute_result"
    }
   ],
   "source": [
    "y1_test.iloc[1:2,:]"
   ]
  },
  {
   "cell_type": "code",
   "execution_count": 65,
   "metadata": {},
   "outputs": [
    {
     "data": {
      "text/plain": [
       "array([0.60250315])"
      ]
     },
     "execution_count": 65,
     "metadata": {},
     "output_type": "execute_result"
    }
   ],
   "source": [
    "#mlpreg.predict(n_df1_valid_X.iloc[1:2,:])"
   ]
  },
  {
   "cell_type": "code",
   "execution_count": 92,
   "metadata": {},
   "outputs": [
    {
     "data": {
      "text/plain": [
       "array([0.3029848])"
      ]
     },
     "execution_count": 92,
     "metadata": {},
     "output_type": "execute_result"
    }
   ],
   "source": [
    "mlpreg.predict(X1_test.iloc[1:2,:])"
   ]
  },
  {
   "cell_type": "code",
   "execution_count": 78,
   "metadata": {
    "scrolled": true
   },
   "outputs": [
    {
     "name": "stdout",
     "output_type": "stream",
     "text": [
      "R-squared score X1_knnreg(training): 1.000\n",
      "R-squared score X1_knnreg(test): -0.150\n"
     ]
    }
   ],
   "source": [
    "#KNN regression\n",
    "from sklearn.neighbors import KNeighborsRegressor\n",
    "knnreg = KNeighborsRegressor(n_neighbors = 1).fit(X1_train, y1_train)\n",
    "\n",
    "print('R-squared score X1_knnreg(training): {:.3f}'\n",
    "     .format(knnreg.score(X1_train, y1_train)))\n",
    "print('R-squared score X1_knnreg(test): {:.3f}'\n",
    "     .format(knnreg.score(X1_test, y1_test)))"
   ]
  },
  {
   "cell_type": "code",
   "execution_count": 79,
   "metadata": {},
   "outputs": [
    {
     "name": "stdout",
     "output_type": "stream",
     "text": [
      "R-squared score X2_knnreg-tensileStrength(training): 1.000\n",
      "R-squared score X2_knnreg-tensileStrength(test): 0.014\n"
     ]
    }
   ],
   "source": [
    "#KNN regression-X2\n",
    "from sklearn.neighbors import KNeighborsRegressor\n",
    "knnreg2 = KNeighborsRegressor(n_neighbors = 1).fit(X2_train, y2_train)\n",
    "\n",
    "print('R-squared score X2_knnreg-tensileStrength(training): {:.3f}'\n",
    "     .format(knnreg2.score(X2_train, y2_train)))\n",
    "print('R-squared score X2_knnreg-tensileStrength(test): {:.3f}'\n",
    "     .format(knnreg2.score(X2_test, y2_test)))"
   ]
  },
  {
   "cell_type": "code",
   "execution_count": 80,
   "metadata": {},
   "outputs": [
    {
     "name": "stdout",
     "output_type": "stream",
     "text": [
      "R-squared score X3_knnreg-elongation(training): 1.000\n",
      "R-squared score X3_knnreg-elongation(test): -0.304\n"
     ]
    }
   ],
   "source": [
    "#KNN regression-X3\n",
    "from sklearn.neighbors import KNeighborsRegressor\n",
    "knnreg3 = KNeighborsRegressor(n_neighbors = 1).fit(X3_train, y3_train)\n",
    "\n",
    "print('R-squared score X3_knnreg-elongation(training): {:.3f}'\n",
    "     .format(knnreg3.score(X3_train, y3_train)))\n",
    "print('R-squared score X3_knnreg-elongation(test): {:.3f}'\n",
    "     .format(knnreg3.score(X3_test, y3_test)))"
   ]
  },
  {
   "cell_type": "code",
   "execution_count": 25,
   "metadata": {
    "scrolled": true
   },
   "outputs": [],
   "source": [
    "# fig, subaxes = plt.subplots(1, 2, figsize=(18,14))\n",
    "# X_predict_input = np.linspace(-3, 3, 50).reshape(-1,1)\n",
    "# #X_train, X_test, y_train, y_test = train_test_split(X_R1[0::5], y_R1[0::5], random_state = 0)\n",
    "\n",
    "# for thisaxis, K in zip(subaxes, [1, 3]):\n",
    "#     knnreg = KNeighborsRegressor(n_neighbors = K).fit(X1_train, y1_train)\n",
    "#     y_predict_output = knnreg.predict(X_predict_input)\n",
    "#     thisaxis.set_xlim([-2.5, 0.75])\n",
    "#     thisaxis.plot(X_predict_input, y_predict_output, '^', markersize = 10,\n",
    "#                  label='Predicted', alpha=0.8)\n",
    "#     thisaxis.plot(X1_train, y1_train, 'o', label='True Value', alpha=0.8)\n",
    "#     thisaxis.set_xlabel('Input feature')\n",
    "#     thisaxis.set_ylabel('Target value')\n",
    "#     thisaxis.set_title('KNN regression (K={})'.format(K))\n",
    "#     thisaxis.legend()\n",
    "# plt.tight_layout()"
   ]
  },
  {
   "cell_type": "code",
   "execution_count": 81,
   "metadata": {},
   "outputs": [
    {
     "name": "stdout",
     "output_type": "stream",
     "text": [
      "R-squared score X1_ridgereg(training): 0.301\n",
      "R-squared score X1_ridgereg(test): 0.169\n"
     ]
    }
   ],
   "source": [
    "#ridge regression\n",
    "from sklearn.linear_model import Ridge\n",
    "#X_train, X_test, y_train, y_test = train_test_split(X_crime, y_crime,random_state = 0)\n",
    "\n",
    "linridge = Ridge(alpha=20.0).fit(X1_train, y1_train)\n",
    "\n",
    "print('R-squared score X1_ridgereg(training): {:.3f}'\n",
    "     .format(linridge.score(X1_train, y1_train)))\n",
    "print('R-squared score X1_ridgereg(test): {:.3f}'\n",
    "     .format(linridge.score(X1_test, y1_test)))"
   ]
  },
  {
   "cell_type": "code",
   "execution_count": 82,
   "metadata": {},
   "outputs": [
    {
     "name": "stdout",
     "output_type": "stream",
     "text": [
      "R-squared score X2_ridgereg-tensileStrength(training): 0.231\n",
      "R-squared score X2_ridgereg-tensileStrength(test): 0.152\n"
     ]
    }
   ],
   "source": [
    "#ridge regression-X2\n",
    "from sklearn.linear_model import Ridge\n",
    "#X_train, X_test, y_train, y_test = train_test_split(X_crime, y_crime,random_state = 0)\n",
    "\n",
    "linridge2 = Ridge(alpha=20.0).fit(X2_train, y2_train)\n",
    "\n",
    "print('R-squared score X2_ridgereg-tensileStrength(training): {:.3f}'\n",
    "     .format(linridge2.score(X2_train, y2_train)))\n",
    "print('R-squared score X2_ridgereg-tensileStrength(test): {:.3f}'\n",
    "     .format(linridge2.score(X2_test, y2_test)))"
   ]
  },
  {
   "cell_type": "code",
   "execution_count": 83,
   "metadata": {},
   "outputs": [
    {
     "name": "stdout",
     "output_type": "stream",
     "text": [
      "R-squared score X3_ridgereg-elongation(training): 0.269\n",
      "R-squared score X3_ridgereg-elongation(test): 0.220\n"
     ]
    }
   ],
   "source": [
    "#ridge regression-X3\n",
    "from sklearn.linear_model import Ridge\n",
    "#X_train, X_test, y_train, y_test = train_test_split(X_crime, y_crime,random_state = 0)\n",
    "\n",
    "linridge3 = Ridge(alpha=20.0).fit(X3_train, y3_train)\n",
    "\n",
    "print('R-squared score X3_ridgereg-elongation(training): {:.3f}'\n",
    "     .format(linridge3.score(X3_train, y3_train)))\n",
    "print('R-squared score X3_ridgereg-elongation(test): {:.3f}'\n",
    "     .format(linridge3.score(X3_test, y3_test)))"
   ]
  }
 ],
 "metadata": {
  "kernelspec": {
   "display_name": "Python 3",
   "language": "python",
   "name": "python3"
  },
  "language_info": {
   "codemirror_mode": {
    "name": "ipython",
    "version": 3
   },
   "file_extension": ".py",
   "mimetype": "text/x-python",
   "name": "python",
   "nbconvert_exporter": "python",
   "pygments_lexer": "ipython3",
   "version": "3.7.5"
  }
 },
 "nbformat": 4,
 "nbformat_minor": 2
}
